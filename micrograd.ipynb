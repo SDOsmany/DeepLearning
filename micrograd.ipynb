{
  "nbformat": 4,
  "nbformat_minor": 0,
  "metadata": {
    "colab": {
      "provenance": [],
      "authorship_tag": "ABX9TyPWkTPHpypdPX1xam+hBp6i",
      "include_colab_link": true
    },
    "kernelspec": {
      "name": "python3",
      "display_name": "Python 3"
    },
    "language_info": {
      "name": "python"
    }
  },
  "cells": [
    {
      "cell_type": "markdown",
      "metadata": {
        "id": "view-in-github",
        "colab_type": "text"
      },
      "source": [
        "<a href=\"https://colab.research.google.com/github/SDOsmany/DeepLearning/blob/main/micrograd.ipynb\" target=\"_parent\"><img src=\"https://colab.research.google.com/assets/colab-badge.svg\" alt=\"Open In Colab\"/></a>"
      ]
    },
    {
      "cell_type": "code",
      "execution_count": 19,
      "metadata": {
        "id": "fAeiIzaXq-Yt"
      },
      "outputs": [],
      "source": [
        "class Neuron():\n",
        "\n",
        "    def __init__(self,data, _children=(), _op = '', label='') -> None:\n",
        "        self.data = data\n",
        "        self._prev = set(_children)\n",
        "        self._op = _op\n",
        "        self.label = label\n",
        "\n",
        "    def __repr__(self) -> str:\n",
        "        return f\"Neuron(data={self.data})\"\n",
        "\n",
        "    def __add__(self,other):\n",
        "        out = Neuron(self.data + other.data, (self,other), '+')\n",
        "        return out\n",
        "\n",
        "    def __mul__(self,other):\n",
        "        out = Neuron(self.data * other.data, (self,other), '*')\n",
        "        return out"
      ]
    },
    {
      "cell_type": "code",
      "source": [],
      "metadata": {
        "id": "RotR50cXrHdg"
      },
      "execution_count": 19,
      "outputs": []
    },
    {
      "cell_type": "code",
      "source": [
        "from graphviz import Digraph\n",
        "\n",
        "def trace (root):\n",
        "  # builds a set of all nodes and edaes in a arach\n",
        "  nodes, edges = set (), set ()\n",
        "  def build(v):\n",
        "      if v not in nodes:\n",
        "          nodes.add(v)\n",
        "          for child in v._prev:\n",
        "              edges.add((child, v))\n",
        "              build(child)\n",
        "  build(root)\n",
        "  return nodes, edges\n",
        "\n",
        "\n",
        "def draw_dot(root):\n",
        "  dot = Digraph(format='svg', graph_attr={'rankdir': 'LR'}) # LR = left to right\n",
        "\n",
        "  nodes, edges = trace(root)\n",
        "  for n in nodes:\n",
        "      uid = str(id(n))\n",
        "      # for any value in the graph, create a rectangular ('record') node for it\n",
        "      dot.node(name = uid, label = \"{%s | data %.4f }\" % (n.label,n.data), shape='record')\n",
        "      if n._op:\n",
        "          # if this value is a result of some operation, create an op node for it\n",
        "          dot.node( name = uid + n._op, label = n._op)\n",
        "          # and connect this node to it\n",
        "          dot.edge(uid + n._op, uid)\n",
        "\n",
        "  for n1, n2 in edges:\n",
        "      # connect n1 to the on node of n2\n",
        "      dot.edge(str(id(n1)), str(id(n2)) + n2._op)\n",
        "  return dot"
      ],
      "metadata": {
        "id": "Iua8V9narNPK"
      },
      "execution_count": 30,
      "outputs": []
    },
    {
      "cell_type": "code",
      "source": [
        "a = Neuron(2.0, label='a')\n",
        "b = Neuron(-3.0,label='b')\n",
        "c = Neuron(10.0,label='c')\n",
        "e = a * b; e.label = 'e'\n",
        "d = e + c; d.label = 'd'\n",
        "f = Neuron(-2.0,label='f')\n",
        "L = d * f; L.label = 'L'\n",
        "L"
      ],
      "metadata": {
        "colab": {
          "base_uri": "https://localhost:8080/"
        },
        "id": "iyCwoQVArRXi",
        "outputId": "25db4725-2645-466b-e5a2-530894fdaf4d"
      },
      "execution_count": 31,
      "outputs": [
        {
          "output_type": "execute_result",
          "data": {
            "text/plain": [
              "Neuron(data=-8.0)"
            ]
          },
          "metadata": {},
          "execution_count": 31
        }
      ]
    },
    {
      "cell_type": "code",
      "source": [],
      "metadata": {
        "id": "3AXVsCsRrUg4"
      },
      "execution_count": 31,
      "outputs": []
    },
    {
      "cell_type": "code",
      "source": [
        "draw_dot(L)"
      ],
      "metadata": {
        "colab": {
          "base_uri": "https://localhost:8080/",
          "height": 229
        },
        "id": "6pg-adl_rWMn",
        "outputId": "a6893d8f-836b-4cc2-bb53-94961aee6a05"
      },
      "execution_count": 32,
      "outputs": [
        {
          "output_type": "execute_result",
          "data": {
            "image/svg+xml": "<?xml version=\"1.0\" encoding=\"UTF-8\" standalone=\"no\"?>\n<!DOCTYPE svg PUBLIC \"-//W3C//DTD SVG 1.1//EN\"\n \"http://www.w3.org/Graphics/SVG/1.1/DTD/svg11.dtd\">\n<!-- Generated by graphviz version 2.43.0 (0)\n -->\n<!-- Title: %3 Pages: 1 -->\n<svg width=\"820pt\" height=\"156pt\"\n viewBox=\"0.00 0.00 820.00 156.00\" xmlns=\"http://www.w3.org/2000/svg\" xmlns:xlink=\"http://www.w3.org/1999/xlink\">\n<g id=\"graph0\" class=\"graph\" transform=\"scale(1 1) rotate(0) translate(4 152)\">\n<title>%3</title>\n<polygon fill=\"white\" stroke=\"transparent\" points=\"-4,4 -4,-152 816,-152 816,4 -4,4\"/>\n<!-- 132169204545088 -->\n<g id=\"node1\" class=\"node\">\n<title>132169204545088</title>\n<polygon fill=\"none\" stroke=\"black\" points=\"2.5,-111.5 2.5,-147.5 105.5,-147.5 105.5,-111.5 2.5,-111.5\"/>\n<text text-anchor=\"middle\" x=\"14\" y=\"-125.8\" font-family=\"Times,serif\" font-size=\"14.00\">a</text>\n<polyline fill=\"none\" stroke=\"black\" points=\"25.5,-111.5 25.5,-147.5 \"/>\n<text text-anchor=\"middle\" x=\"65.5\" y=\"-125.8\" font-family=\"Times,serif\" font-size=\"14.00\">data 2.0000</text>\n</g>\n<!-- 132169204541392* -->\n<g id=\"node10\" class=\"node\">\n<title>132169204541392*</title>\n<ellipse fill=\"none\" stroke=\"black\" cx=\"171\" cy=\"-101.5\" rx=\"27\" ry=\"18\"/>\n<text text-anchor=\"middle\" x=\"171\" y=\"-97.8\" font-family=\"Times,serif\" font-size=\"14.00\">*</text>\n</g>\n<!-- 132169204545088&#45;&gt;132169204541392* -->\n<g id=\"edge5\" class=\"edge\">\n<title>132169204545088&#45;&gt;132169204541392*</title>\n<path fill=\"none\" stroke=\"black\" d=\"M105.78,-117.14C115.85,-114.68 126.2,-112.16 135.58,-109.88\"/>\n<polygon fill=\"black\" stroke=\"black\" points=\"136.41,-113.28 145.3,-107.51 134.76,-106.48 136.41,-113.28\"/>\n</g>\n<!-- 132169204544464 -->\n<g id=\"node2\" class=\"node\">\n<title>132169204544464</title>\n<polygon fill=\"none\" stroke=\"black\" points=\"702,-27.5 702,-63.5 812,-63.5 812,-27.5 702,-27.5\"/>\n<text text-anchor=\"middle\" x=\"714.5\" y=\"-41.8\" font-family=\"Times,serif\" font-size=\"14.00\">L</text>\n<polyline fill=\"none\" stroke=\"black\" points=\"727,-27.5 727,-63.5 \"/>\n<text text-anchor=\"middle\" x=\"769.5\" y=\"-41.8\" font-family=\"Times,serif\" font-size=\"14.00\">data &#45;8.0000</text>\n</g>\n<!-- 132169204544464* -->\n<g id=\"node3\" class=\"node\">\n<title>132169204544464*</title>\n<ellipse fill=\"none\" stroke=\"black\" cx=\"639\" cy=\"-45.5\" rx=\"27\" ry=\"18\"/>\n<text text-anchor=\"middle\" x=\"639\" y=\"-41.8\" font-family=\"Times,serif\" font-size=\"14.00\">*</text>\n</g>\n<!-- 132169204544464*&#45;&gt;132169204544464 -->\n<g id=\"edge1\" class=\"edge\">\n<title>132169204544464*&#45;&gt;132169204544464</title>\n<path fill=\"none\" stroke=\"black\" d=\"M666.03,-45.5C673.7,-45.5 682.45,-45.5 691.42,-45.5\"/>\n<polygon fill=\"black\" stroke=\"black\" points=\"691.58,-49 701.58,-45.5 691.58,-42 691.58,-49\"/>\n</g>\n<!-- 132169204537552 -->\n<g id=\"node4\" class=\"node\">\n<title>132169204537552</title>\n<polygon fill=\"none\" stroke=\"black\" points=\"0,-56.5 0,-92.5 108,-92.5 108,-56.5 0,-56.5\"/>\n<text text-anchor=\"middle\" x=\"11.5\" y=\"-70.8\" font-family=\"Times,serif\" font-size=\"14.00\">b</text>\n<polyline fill=\"none\" stroke=\"black\" points=\"23,-56.5 23,-92.5 \"/>\n<text text-anchor=\"middle\" x=\"65.5\" y=\"-70.8\" font-family=\"Times,serif\" font-size=\"14.00\">data &#45;3.0000</text>\n</g>\n<!-- 132169204537552&#45;&gt;132169204541392* -->\n<g id=\"edge4\" class=\"edge\">\n<title>132169204537552&#45;&gt;132169204541392*</title>\n<path fill=\"none\" stroke=\"black\" d=\"M108.12,-86.97C117.33,-89.13 126.68,-91.33 135.24,-93.34\"/>\n<polygon fill=\"black\" stroke=\"black\" points=\"134.68,-96.8 145.21,-95.68 136.28,-89.99 134.68,-96.8\"/>\n</g>\n<!-- 132169204547344 -->\n<g id=\"node5\" class=\"node\">\n<title>132169204547344</title>\n<polygon fill=\"none\" stroke=\"black\" points=\"234,-28.5 234,-64.5 344,-64.5 344,-28.5 234,-28.5\"/>\n<text text-anchor=\"middle\" x=\"245.5\" y=\"-42.8\" font-family=\"Times,serif\" font-size=\"14.00\">c</text>\n<polyline fill=\"none\" stroke=\"black\" points=\"257,-28.5 257,-64.5 \"/>\n<text text-anchor=\"middle\" x=\"300.5\" y=\"-42.8\" font-family=\"Times,serif\" font-size=\"14.00\">data 10.0000</text>\n</g>\n<!-- 132169204537216+ -->\n<g id=\"node8\" class=\"node\">\n<title>132169204537216+</title>\n<ellipse fill=\"none\" stroke=\"black\" cx=\"407\" cy=\"-73.5\" rx=\"27\" ry=\"18\"/>\n<text text-anchor=\"middle\" x=\"407\" y=\"-69.8\" font-family=\"Times,serif\" font-size=\"14.00\">+</text>\n</g>\n<!-- 132169204547344&#45;&gt;132169204537216+ -->\n<g id=\"edge7\" class=\"edge\">\n<title>132169204547344&#45;&gt;132169204537216+</title>\n<path fill=\"none\" stroke=\"black\" d=\"M344.26,-59.13C353.49,-61.28 362.84,-63.45 371.37,-65.44\"/>\n<polygon fill=\"black\" stroke=\"black\" points=\"370.79,-68.9 381.32,-67.76 372.38,-62.08 370.79,-68.9\"/>\n</g>\n<!-- 132169204547440 -->\n<g id=\"node6\" class=\"node\">\n<title>132169204547440</title>\n<polygon fill=\"none\" stroke=\"black\" points=\"470,-0.5 470,-36.5 576,-36.5 576,-0.5 470,-0.5\"/>\n<text text-anchor=\"middle\" x=\"480.5\" y=\"-14.8\" font-family=\"Times,serif\" font-size=\"14.00\">f</text>\n<polyline fill=\"none\" stroke=\"black\" points=\"491,-0.5 491,-36.5 \"/>\n<text text-anchor=\"middle\" x=\"533.5\" y=\"-14.8\" font-family=\"Times,serif\" font-size=\"14.00\">data &#45;2.0000</text>\n</g>\n<!-- 132169204547440&#45;&gt;132169204544464* -->\n<g id=\"edge6\" class=\"edge\">\n<title>132169204547440&#45;&gt;132169204544464*</title>\n<path fill=\"none\" stroke=\"black\" d=\"M576.33,-30.89C585.48,-33.06 594.8,-35.27 603.33,-37.29\"/>\n<polygon fill=\"black\" stroke=\"black\" points=\"602.73,-40.74 613.27,-39.64 604.34,-33.93 602.73,-40.74\"/>\n</g>\n<!-- 132169204537216 -->\n<g id=\"node7\" class=\"node\">\n<title>132169204537216</title>\n<polygon fill=\"none\" stroke=\"black\" points=\"471.5,-55.5 471.5,-91.5 574.5,-91.5 574.5,-55.5 471.5,-55.5\"/>\n<text text-anchor=\"middle\" x=\"483\" y=\"-69.8\" font-family=\"Times,serif\" font-size=\"14.00\">d</text>\n<polyline fill=\"none\" stroke=\"black\" points=\"494.5,-55.5 494.5,-91.5 \"/>\n<text text-anchor=\"middle\" x=\"534.5\" y=\"-69.8\" font-family=\"Times,serif\" font-size=\"14.00\">data 4.0000</text>\n</g>\n<!-- 132169204537216&#45;&gt;132169204544464* -->\n<g id=\"edge9\" class=\"edge\">\n<title>132169204537216&#45;&gt;132169204544464*</title>\n<path fill=\"none\" stroke=\"black\" d=\"M574.67,-61.06C584.43,-58.66 594.45,-56.2 603.55,-53.96\"/>\n<polygon fill=\"black\" stroke=\"black\" points=\"604.5,-57.33 613.37,-51.55 602.83,-50.54 604.5,-57.33\"/>\n</g>\n<!-- 132169204537216+&#45;&gt;132169204537216 -->\n<g id=\"edge2\" class=\"edge\">\n<title>132169204537216+&#45;&gt;132169204537216</title>\n<path fill=\"none\" stroke=\"black\" d=\"M434.15,-73.5C442.26,-73.5 451.57,-73.5 461.02,-73.5\"/>\n<polygon fill=\"black\" stroke=\"black\" points=\"461.28,-77 471.28,-73.5 461.28,-70 461.28,-77\"/>\n</g>\n<!-- 132169204541392 -->\n<g id=\"node9\" class=\"node\">\n<title>132169204541392</title>\n<polygon fill=\"none\" stroke=\"black\" points=\"235,-83.5 235,-119.5 343,-119.5 343,-83.5 235,-83.5\"/>\n<text text-anchor=\"middle\" x=\"246.5\" y=\"-97.8\" font-family=\"Times,serif\" font-size=\"14.00\">e</text>\n<polyline fill=\"none\" stroke=\"black\" points=\"258,-83.5 258,-119.5 \"/>\n<text text-anchor=\"middle\" x=\"300.5\" y=\"-97.8\" font-family=\"Times,serif\" font-size=\"14.00\">data &#45;6.0000</text>\n</g>\n<!-- 132169204541392&#45;&gt;132169204537216+ -->\n<g id=\"edge8\" class=\"edge\">\n<title>132169204541392&#45;&gt;132169204537216+</title>\n<path fill=\"none\" stroke=\"black\" d=\"M343.25,-88.65C352.84,-86.33 362.6,-83.98 371.48,-81.83\"/>\n<polygon fill=\"black\" stroke=\"black\" points=\"372.54,-85.18 381.43,-79.43 370.89,-78.37 372.54,-85.18\"/>\n</g>\n<!-- 132169204541392*&#45;&gt;132169204541392 -->\n<g id=\"edge3\" class=\"edge\">\n<title>132169204541392*&#45;&gt;132169204541392</title>\n<path fill=\"none\" stroke=\"black\" d=\"M198.03,-101.5C206.08,-101.5 215.32,-101.5 224.74,-101.5\"/>\n<polygon fill=\"black\" stroke=\"black\" points=\"224.99,-105 234.99,-101.5 224.99,-98 224.99,-105\"/>\n</g>\n</g>\n</svg>\n",
            "text/plain": [
              "<graphviz.graphs.Digraph at 0x78350a7cbeb0>"
            ]
          },
          "metadata": {},
          "execution_count": 32
        }
      ]
    },
    {
      "cell_type": "code",
      "source": [],
      "metadata": {
        "id": "3Z94n0ShudEt"
      },
      "execution_count": 15,
      "outputs": []
    }
  ]
}